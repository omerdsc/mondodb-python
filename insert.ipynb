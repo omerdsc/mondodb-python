{
 "cells": [
  {
   "cell_type": "code",
   "execution_count": 1,
   "id": "f5369e43-441d-4b83-822c-e6e70b89494c",
   "metadata": {},
   "outputs": [],
   "source": [
    "import pymongo"
   ]
  },
  {
   "cell_type": "code",
   "execution_count": 2,
   "id": "68b925f7-671a-4d62-acd6-be361f6aa1a5",
   "metadata": {},
   "outputs": [
    {
     "name": "stdout",
     "output_type": "stream",
     "text": [
      "['products']\n"
     ]
    }
   ],
   "source": [
    "myclient=pymongo.MongoClient(\"mongodb://localhost:27017\")\n",
    "\n",
    "mydb=myclient[\"node_app\"]\n",
    "\n",
    "mycollection=mydb[\"products\"]\n",
    "\n",
    "print(mydb.list_collection_names()) #collectionları bize gösterir"
   ]
  },
  {
   "cell_type": "code",
   "execution_count": 4,
   "id": "d9ab733e-f09d-48e8-ba03-57a9b4614622",
   "metadata": {},
   "outputs": [
    {
     "name": "stdout",
     "output_type": "stream",
     "text": [
      "InsertOneResult(ObjectId('67518d45c38f29fd952c25a8'), acknowledged=True)\n",
      "<class 'pymongo.results.InsertOneResult'>\n",
      "67518d45c38f29fd952c25a8\n"
     ]
    }
   ],
   "source": [
    "product={\"name\":\"samsung s5\",\"price\":2000}\n",
    "\n",
    "result=mycollection.insert_one(product)#k 1 tane kayıt ekliyoruz--insert_many birden fazla kayıt ekler\n",
    "print(result)\n",
    "print(type(result))\n",
    "print(result.inserted_id)"
   ]
  },
  {
   "cell_type": "code",
   "execution_count": 5,
   "id": "661bfac9-49d9-45f2-b432-6a82e1385736",
   "metadata": {},
   "outputs": [
    {
     "name": "stdout",
     "output_type": "stream",
     "text": [
      "[ObjectId('67518de0c38f29fd952c25a9'), ObjectId('67518de0c38f29fd952c25aa'), ObjectId('67518de0c38f29fd952c25ab'), ObjectId('67518de0c38f29fd952c25ac'), ObjectId('67518de0c38f29fd952c25ad'), ObjectId('67518de0c38f29fd952c25ae')]\n"
     ]
    }
   ],
   "source": [
    "productList=[\n",
    "    {\"id\"\"name\":\"samsung s6\",\"price\":3000,},\n",
    "    {\"name\":\"samsung s7\",\"price\":4000,},\n",
    "    {\"name\":\"samsung s8\",\"price\":5000},\n",
    "    {\"name\":\"samsung s9\",\"price\":6000},\n",
    "    {\"name\":\"samsung s10\",\"price\":7000},\n",
    "    {\"name\":\"samsung s11\",\"price\":8000}\n",
    "\n",
    "]\n",
    "\n",
    "result=mycollection.insert_many(productList)\n",
    "\n",
    "print(result.inserted_ids)"
   ]
  },
  {
   "cell_type": "code",
   "execution_count": 6,
   "id": "7237ebb5-b038-45e8-aad4-1798296da4b8",
   "metadata": {},
   "outputs": [
    {
     "name": "stdout",
     "output_type": "stream",
     "text": [
      "[ObjectId('67518f18c38f29fd952c25af'), ObjectId('67518f18c38f29fd952c25b0')]\n"
     ]
    }
   ],
   "source": [
    "productList=[\n",
    "    {\"id\"\"name\":\"samsung s6\",\"price\":3000,\"description\":\"iyi telefon\"},\n",
    "    {\"name\":\"samsung s7\",\"price\":4000,\"categories\":[\"telefon\",\"elektronik\"]}\n",
    "]\n",
    "\n",
    "result=mycollection.insert_many(productList)\n",
    "\n",
    "print(result.inserted_ids)"
   ]
  },
  {
   "cell_type": "code",
   "execution_count": null,
   "id": "da39488e-2a05-4f71-beac-650ef87e71ba",
   "metadata": {},
   "outputs": [],
   "source": []
  }
 ],
 "metadata": {
  "kernelspec": {
   "display_name": "Python 3 (ipykernel)",
   "language": "python",
   "name": "python3"
  },
  "language_info": {
   "codemirror_mode": {
    "name": "ipython",
    "version": 3
   },
   "file_extension": ".py",
   "mimetype": "text/x-python",
   "name": "python",
   "nbconvert_exporter": "python",
   "pygments_lexer": "ipython3",
   "version": "3.12.4"
  }
 },
 "nbformat": 4,
 "nbformat_minor": 5
}
