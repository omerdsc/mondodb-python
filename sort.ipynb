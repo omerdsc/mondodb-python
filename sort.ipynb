{
 "cells": [
  {
   "cell_type": "code",
   "execution_count": 14,
   "id": "31918ab6-d87b-44c1-b19a-4f309d24cc24",
   "metadata": {},
   "outputs": [],
   "source": [
    "import pymongo"
   ]
  },
  {
   "cell_type": "code",
   "execution_count": 15,
   "id": "b461a372-022c-4671-8d79-e8fb6fdf656b",
   "metadata": {},
   "outputs": [],
   "source": [
    "mycliet=pymongo.MongoClient(\"mongodb://localhost:27017\")\n",
    "\n",
    "mydb=mycliet[\"node_app\"]\n",
    "mycollection=mydb[\"products\"]"
   ]
  },
  {
   "cell_type": "code",
   "execution_count": 16,
   "id": "3970406d-c4e9-4ea2-bb9e-1262aa5ec8e0",
   "metadata": {},
   "outputs": [
    {
     "name": "stdout",
     "output_type": "stream",
     "text": [
      "{'_id': ObjectId('67518f18c38f29fd952c25af'), 'idname': 'samsung s6', 'price': 3000, 'description': 'iyi telefon'}\n",
      "{'_id': ObjectId('67518de0c38f29fd952c25ad'), 'name': 'samsung s10', 'price': 7000}\n",
      "{'_id': ObjectId('67518de0c38f29fd952c25ae'), 'name': 'samsung s11', 'price': 8000}\n",
      "{'_id': ObjectId('67518cbbc38f29fd952c25a7'), 'name': 'samsung s5', 'price': 2000}\n",
      "{'_id': ObjectId('67518d45c38f29fd952c25a8'), 'name': 'samsung s5', 'price': 2000}\n",
      "{'_id': ObjectId('67518de0c38f29fd952c25a9'), 'name': 'samsung s6', 'price': 3000}\n",
      "{'_id': ObjectId('67518de0c38f29fd952c25aa'), 'name': 'samsung s7', 'price': 4000}\n",
      "{'_id': ObjectId('67518f18c38f29fd952c25b0'), 'name': 'samsung s7', 'price': 4000, 'categories': ['telefon', 'elektronik']}\n",
      "{'_id': ObjectId('67518de0c38f29fd952c25ab'), 'name': 'samsung s8', 'price': 5000}\n",
      "{'_id': ObjectId('67518de0c38f29fd952c25ac'), 'name': 'samsung s9', 'price': 6000}\n"
     ]
    }
   ],
   "source": [
    "#result=mycollection.find().sort(\"price\",-1) #1 değerinde azdan çoğa -1 de çoktan aza sıralar\n",
    "result=mycollection.find().sort([(\"name\",1),(\"price\",-1)])\n",
    "\n",
    "for i in result:\n",
    "    print(i)"
   ]
  },
  {
   "cell_type": "code",
   "execution_count": null,
   "id": "86eacb08-43ea-45cc-89bc-be4e7ef62595",
   "metadata": {},
   "outputs": [],
   "source": []
  }
 ],
 "metadata": {
  "kernelspec": {
   "display_name": "Python 3 (ipykernel)",
   "language": "python",
   "name": "python3"
  },
  "language_info": {
   "codemirror_mode": {
    "name": "ipython",
    "version": 3
   },
   "file_extension": ".py",
   "mimetype": "text/x-python",
   "name": "python",
   "nbconvert_exporter": "python",
   "pygments_lexer": "ipython3",
   "version": "3.12.4"
  }
 },
 "nbformat": 4,
 "nbformat_minor": 5
}
