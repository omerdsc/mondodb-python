{
 "cells": [
  {
   "cell_type": "code",
   "execution_count": 8,
   "id": "e61f9c21-eef2-4fb7-8209-e59efc008cc6",
   "metadata": {},
   "outputs": [],
   "source": [
    "import pymongo\n",
    "from bson.objectid import ObjectId"
   ]
  },
  {
   "cell_type": "code",
   "execution_count": 3,
   "id": "1e44dadf-54e1-465a-8b07-4f758b5029d3",
   "metadata": {},
   "outputs": [
    {
     "name": "stdout",
     "output_type": "stream",
     "text": [
      "{'_id': ObjectId('67518cbbc38f29fd952c25a7'), 'name': 'samsung s5', 'price': 2000}\n",
      "{'_id': ObjectId('67518d45c38f29fd952c25a8'), 'name': 'samsung s5', 'price': 2000}\n"
     ]
    }
   ],
   "source": [
    "myclient=pymongo.MongoClient(\"mongodb://localhost:27017\")\n",
    "\n",
    "mydb=myclient[\"node_app\"]\n",
    "mycollection=mydb[\"products\"]\n",
    "\n",
    "filtre={\"name\":\"samsung s5\"}\n",
    "\n",
    "result=mycollection.find(filtre)\n",
    "\n",
    "for i in result:\n",
    "    print(i)"
   ]
  },
  {
   "cell_type": "code",
   "execution_count": 5,
   "id": "402188a7-8a41-4d94-854e-5fe04dde73b0",
   "metadata": {},
   "outputs": [
    {
     "name": "stdout",
     "output_type": "stream",
     "text": [
      "{'_id': ObjectId('67518cbbc38f29fd952c25a7'), 'name': 'samsung s5', 'price': 2000}\n"
     ]
    }
   ],
   "source": [
    "filtre={\"name\":\"samsung s5\"}\n",
    "\n",
    "result=mycollection.find_one(filtre)\n",
    "print(result)"
   ]
  },
  {
   "cell_type": "code",
   "execution_count": 10,
   "id": "d92e8fcc-fee1-4658-9d5b-caddc51dc9a3",
   "metadata": {},
   "outputs": [
    {
     "name": "stdout",
     "output_type": "stream",
     "text": [
      "{'_id': ObjectId('67518d45c38f29fd952c25a8'), 'name': 'samsung s5', 'price': 2000}\n"
     ]
    }
   ],
   "source": [
    "result=mycollection.find_one({\"_id\": ObjectId(\"67518d45c38f29fd952c25a8\")})\n",
    "print(result)"
   ]
  },
  {
   "cell_type": "code",
   "execution_count": 14,
   "id": "4df25777-584b-47e1-8f13-21d4803b5873",
   "metadata": {},
   "outputs": [
    {
     "name": "stdout",
     "output_type": "stream",
     "text": [
      "{'_id': ObjectId('67518cbbc38f29fd952c25a7'), 'name': 'samsung s5', 'price': 2000}\n",
      "{'_id': ObjectId('67518d45c38f29fd952c25a8'), 'name': 'samsung s5', 'price': 2000}\n",
      "{'_id': ObjectId('67518de0c38f29fd952c25a9'), 'name': 'samsung s6', 'price': 3000}\n"
     ]
    }
   ],
   "source": [
    "result=mycollection.find({\n",
    "    \"name\":{\n",
    "        \"$in\":[\"samsung s5\",\"samsung s6\"]\n",
    "    }\n",
    "}) #aranan kısımda istenilen biri varsa kayıtları bize getirir\n",
    "\n",
    "for i in result:\n",
    "    print(i)"
   ]
  },
  {
   "cell_type": "code",
   "execution_count": 16,
   "id": "4f0ed004-1436-4939-aa9f-11fce513bce3",
   "metadata": {},
   "outputs": [
    {
     "name": "stdout",
     "output_type": "stream",
     "text": [
      "{'_id': ObjectId('67518de0c38f29fd952c25ab'), 'name': 'samsung s8', 'price': 5000}\n",
      "{'_id': ObjectId('67518de0c38f29fd952c25ac'), 'name': 'samsung s9', 'price': 6000}\n",
      "{'_id': ObjectId('67518de0c38f29fd952c25ad'), 'name': 'samsung s10', 'price': 7000}\n",
      "{'_id': ObjectId('67518de0c38f29fd952c25ae'), 'name': 'samsung s11', 'price': 8000}\n"
     ]
    }
   ],
   "source": [
    "result=mycollection.find({\n",
    "    \"price\":{\n",
    "        \"$gt\":4000 #fiyatı 4000 den büyük olan ayıtlar çıkar (gte hem büyük hem eşit olan kayıtlar\n",
    "    }\n",
    "})\n",
    "\n",
    "for i in result:\n",
    "    print(i)"
   ]
  },
  {
   "cell_type": "code",
   "execution_count": 20,
   "id": "13360ddb-8468-4742-bb57-e4e808dc5cf3",
   "metadata": {},
   "outputs": [
    {
     "name": "stdout",
     "output_type": "stream",
     "text": [
      "{'_id': ObjectId('67518de0c38f29fd952c25aa'), 'name': 'samsung s7', 'price': 4000}\n",
      "{'_id': ObjectId('67518f18c38f29fd952c25b0'), 'name': 'samsung s7', 'price': 4000, 'categories': ['telefon', 'elektronik']}\n"
     ]
    }
   ],
   "source": [
    "result=mycollection.find({\n",
    "    \"price\":{\n",
    "        \"$eq\":4000 #fiyatı 4000 e eşit olan kayaıtları getirir\n",
    "    }\n",
    "})\n",
    "\n",
    "for i in result:\n",
    "    print(i)"
   ]
  },
  {
   "cell_type": "code",
   "execution_count": 21,
   "id": "f936a3f0-336d-45e0-ab12-f89a19b333c6",
   "metadata": {},
   "outputs": [
    {
     "name": "stdout",
     "output_type": "stream",
     "text": [
      "{'_id': ObjectId('67518cbbc38f29fd952c25a7'), 'name': 'samsung s5', 'price': 2000}\n",
      "{'_id': ObjectId('67518d45c38f29fd952c25a8'), 'name': 'samsung s5', 'price': 2000}\n",
      "{'_id': ObjectId('67518de0c38f29fd952c25a9'), 'name': 'samsung s6', 'price': 3000}\n",
      "{'_id': ObjectId('67518f18c38f29fd952c25af'), 'idname': 'samsung s6', 'price': 3000, 'description': 'iyi telefon'}\n"
     ]
    }
   ],
   "source": [
    "result=mycollection.find({\n",
    "    \"price\":{\n",
    "        \"$lt\":4000 #fiyatı 4000 den küçük olan ayıtlar çıkar (lte hem küçük hem eşit olan kayıtlar\n",
    "    }\n",
    "})\n",
    "\n",
    "for i in result:\n",
    "    print(i)"
   ]
  },
  {
   "cell_type": "code",
   "execution_count": 23,
   "id": "c5c95c43-14cb-4921-854e-933b15ee64b4",
   "metadata": {},
   "outputs": [
    {
     "name": "stdout",
     "output_type": "stream",
     "text": [
      "{'_id': ObjectId('67518cbbc38f29fd952c25a7'), 'name': 'samsung s5', 'price': 2000}\n",
      "{'_id': ObjectId('67518d45c38f29fd952c25a8'), 'name': 'samsung s5', 'price': 2000}\n",
      "{'_id': ObjectId('67518de0c38f29fd952c25a9'), 'name': 'samsung s6', 'price': 3000}\n",
      "{'_id': ObjectId('67518de0c38f29fd952c25aa'), 'name': 'samsung s7', 'price': 4000}\n",
      "{'_id': ObjectId('67518de0c38f29fd952c25ab'), 'name': 'samsung s8', 'price': 5000}\n",
      "{'_id': ObjectId('67518de0c38f29fd952c25ac'), 'name': 'samsung s9', 'price': 6000}\n",
      "{'_id': ObjectId('67518de0c38f29fd952c25ad'), 'name': 'samsung s10', 'price': 7000}\n",
      "{'_id': ObjectId('67518de0c38f29fd952c25ae'), 'name': 'samsung s11', 'price': 8000}\n",
      "{'_id': ObjectId('67518f18c38f29fd952c25b0'), 'name': 'samsung s7', 'price': 4000, 'categories': ['telefon', 'elektronik']}\n"
     ]
    }
   ],
   "source": [
    "result=mycollection.find({\n",
    "    \"name\":{\"$regex\":\"^s\"} #içeriside s harfi olan kayıtları getirir\n",
    "})\n",
    "\n",
    "for i in result:\n",
    "    print(i)"
   ]
  },
  {
   "cell_type": "code",
   "execution_count": null,
   "id": "97fa16e6-1f9d-490b-a724-b85a008cd79c",
   "metadata": {},
   "outputs": [],
   "source": []
  }
 ],
 "metadata": {
  "kernelspec": {
   "display_name": "Python 3 (ipykernel)",
   "language": "python",
   "name": "python3"
  },
  "language_info": {
   "codemirror_mode": {
    "name": "ipython",
    "version": 3
   },
   "file_extension": ".py",
   "mimetype": "text/x-python",
   "name": "python",
   "nbconvert_exporter": "python",
   "pygments_lexer": "ipython3",
   "version": "3.12.4"
  }
 },
 "nbformat": 4,
 "nbformat_minor": 5
}
