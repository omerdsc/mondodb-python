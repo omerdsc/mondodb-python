{
 "cells": [
  {
   "cell_type": "code",
   "execution_count": 8,
   "id": "4096cb13-3dd6-49e7-a324-4476c41c2536",
   "metadata": {},
   "outputs": [],
   "source": [
    "import pymongo"
   ]
  },
  {
   "cell_type": "code",
   "execution_count": 9,
   "id": "ab74895a-695d-4e8e-b8ab-1f1375fb8559",
   "metadata": {},
   "outputs": [],
   "source": [
    "mycliet=pymongo.MongoClient(\"mongodb://localhost:27017\")\n",
    "\n",
    "mydb=mycliet[\"node_app\"]\n",
    "mycollection=mydb[\"products\"]"
   ]
  },
  {
   "cell_type": "code",
   "execution_count": 11,
   "id": "a20ecd83-e57f-49e3-9c3a-bf0b96da6dec",
   "metadata": {},
   "outputs": [
    {
     "name": "stdout",
     "output_type": "stream",
     "text": [
      "{'_id': ObjectId('67518cbbc38f29fd952c25a7'), 'name': 'iphone 13', 'price': 2000}\n",
      "{'_id': ObjectId('67518d45c38f29fd952c25a8'), 'name': 'samsung s5', 'price': 2000}\n",
      "{'_id': ObjectId('67518de0c38f29fd952c25a9'), 'name': 'samsung s6', 'price': 3000}\n",
      "{'_id': ObjectId('67518de0c38f29fd952c25aa'), 'name': 'samsung s7', 'price': 4000}\n",
      "{'_id': ObjectId('67518de0c38f29fd952c25ab'), 'name': 'samsung s8', 'price': 5000}\n",
      "{'_id': ObjectId('67518de0c38f29fd952c25ac'), 'name': 'samsung s9', 'price': 6000}\n",
      "{'_id': ObjectId('67518de0c38f29fd952c25ad'), 'name': 'samsung s10', 'price': 7000}\n",
      "{'_id': ObjectId('67518de0c38f29fd952c25ae'), 'name': 'samsung s11', 'price': 8000}\n",
      "{'_id': ObjectId('67518f18c38f29fd952c25af'), 'idname': 'samsung s6', 'price': 3000, 'description': 'iyi telefon'}\n",
      "{'_id': ObjectId('67518f18c38f29fd952c25b0'), 'name': 'samsung s7', 'price': 4000, 'categories': ['telefon', 'elektronik']}\n",
      "{'_id': ObjectId('67518cbbc38f29fd952c25a7'), 'name': 'iphone 13', 'price': 2000}\n",
      "{'_id': ObjectId('67518d45c38f29fd952c25a8'), 'name': 'iphone 13', 'price': 2000}\n",
      "{'_id': ObjectId('67518de0c38f29fd952c25a9'), 'name': 'samsung s6', 'price': 3000}\n",
      "{'_id': ObjectId('67518de0c38f29fd952c25aa'), 'name': 'samsung s7', 'price': 4000}\n",
      "{'_id': ObjectId('67518de0c38f29fd952c25ab'), 'name': 'samsung s8', 'price': 5000}\n",
      "{'_id': ObjectId('67518de0c38f29fd952c25ac'), 'name': 'samsung s9', 'price': 6000}\n",
      "{'_id': ObjectId('67518de0c38f29fd952c25ad'), 'name': 'samsung s10', 'price': 7000}\n",
      "{'_id': ObjectId('67518de0c38f29fd952c25ae'), 'name': 'samsung s11', 'price': 8000}\n",
      "{'_id': ObjectId('67518f18c38f29fd952c25af'), 'idname': 'samsung s6', 'price': 3000, 'description': 'iyi telefon'}\n",
      "{'_id': ObjectId('67518f18c38f29fd952c25b0'), 'name': 'samsung s7', 'price': 4000, 'categories': ['telefon', 'elektronik']}\n"
     ]
    }
   ],
   "source": [
    "for i in mycollection.find():\n",
    "    print(i)\n",
    "\n",
    "mycollection.update_one(\n",
    "    {\"name\": \"samsung s5\"},\n",
    "    {\"$set\":{\n",
    "        \"name\":\"iphone 13\"\n",
    "    }}\n",
    ")\n",
    "\n",
    "for i in mycollection.find():\n",
    "    print(i)\n"
   ]
  },
  {
   "cell_type": "code",
   "execution_count": 14,
   "id": "a151b91a-e059-4b86-a320-13b09a51896e",
   "metadata": {},
   "outputs": [
    {
     "name": "stdout",
     "output_type": "stream",
     "text": [
      "{'_id': ObjectId('67518cbbc38f29fd952c25a7'), 'name': 'iphone 13', 'price': 2000}\n",
      "{'_id': ObjectId('67518d45c38f29fd952c25a8'), 'name': 'iphone 13', 'price': 2000}\n",
      "{'_id': ObjectId('67518de0c38f29fd952c25a9'), 'name': 'iphone 15', 'price': 3000}\n",
      "{'_id': ObjectId('67518de0c38f29fd952c25aa'), 'name': 'samsung s7', 'price': 4000}\n",
      "{'_id': ObjectId('67518de0c38f29fd952c25ab'), 'name': 'samsung s8', 'price': 5000}\n",
      "{'_id': ObjectId('67518de0c38f29fd952c25ac'), 'name': 'samsung s9', 'price': 6000}\n",
      "{'_id': ObjectId('67518de0c38f29fd952c25ad'), 'name': 'samsung s10', 'price': 7000}\n",
      "{'_id': ObjectId('67518de0c38f29fd952c25ae'), 'name': 'samsung s11', 'price': 8000}\n",
      "{'_id': ObjectId('67518f18c38f29fd952c25af'), 'idname': 'samsung s6', 'price': 3000, 'description': 'iyi telefon'}\n",
      "{'_id': ObjectId('67518f18c38f29fd952c25b0'), 'name': 'samsung s7', 'price': 4000, 'categories': ['telefon', 'elektronik']}\n",
      "{'_id': ObjectId('67518cbbc38f29fd952c25a7'), 'name': 'iphone 13', 'price': 2000}\n",
      "{'_id': ObjectId('67518d45c38f29fd952c25a8'), 'name': 'iphone 13', 'price': 2000}\n",
      "{'_id': ObjectId('67518de0c38f29fd952c25a9'), 'name': 'iphone 15', 'price': 3000}\n",
      "{'_id': ObjectId('67518de0c38f29fd952c25aa'), 'name': 'iphone 15', 'price': 4000}\n",
      "{'_id': ObjectId('67518de0c38f29fd952c25ab'), 'name': 'samsung s8', 'price': 5000}\n",
      "{'_id': ObjectId('67518de0c38f29fd952c25ac'), 'name': 'samsung s9', 'price': 6000}\n",
      "{'_id': ObjectId('67518de0c38f29fd952c25ad'), 'name': 'samsung s10', 'price': 7000}\n",
      "{'_id': ObjectId('67518de0c38f29fd952c25ae'), 'name': 'samsung s11', 'price': 8000}\n",
      "{'_id': ObjectId('67518f18c38f29fd952c25af'), 'idname': 'samsung s6', 'price': 3000, 'description': 'iyi telefon'}\n",
      "{'_id': ObjectId('67518f18c38f29fd952c25b0'), 'name': 'iphone 15', 'price': 4000, 'categories': ['telefon', 'elektronik']}\n"
     ]
    }
   ],
   "source": [
    "for i in mycollection.find():\n",
    "    print(i)\n",
    "\n",
    "mycollection.update_many(\n",
    "    {\"name\": \"samsung s7\"},\n",
    "    {\"$set\":{\n",
    "        \"name\":\"iphone 15\"\n",
    "    }}\n",
    ")\n",
    "\n",
    "for i in mycollection.find():\n",
    "    print(i)\n"
   ]
  },
  {
   "cell_type": "code",
   "execution_count": null,
   "id": "6d12ff41-c189-4071-a32c-88fd13f7f551",
   "metadata": {},
   "outputs": [],
   "source": []
  }
 ],
 "metadata": {
  "kernelspec": {
   "display_name": "Python 3 (ipykernel)",
   "language": "python",
   "name": "python3"
  },
  "language_info": {
   "codemirror_mode": {
    "name": "ipython",
    "version": 3
   },
   "file_extension": ".py",
   "mimetype": "text/x-python",
   "name": "python",
   "nbconvert_exporter": "python",
   "pygments_lexer": "ipython3",
   "version": "3.12.4"
  }
 },
 "nbformat": 4,
 "nbformat_minor": 5
}
