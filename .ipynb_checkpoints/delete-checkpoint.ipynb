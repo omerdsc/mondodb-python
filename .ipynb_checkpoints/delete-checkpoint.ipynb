{
 "cells": [
  {
   "cell_type": "code",
   "execution_count": 1,
   "id": "5ff2759e-ad7d-4aff-85d3-edc9ea5423e9",
   "metadata": {},
   "outputs": [],
   "source": [
    "import pymongo"
   ]
  },
  {
   "cell_type": "code",
   "execution_count": 2,
   "id": "39103b3d-4923-4d2d-8c91-63d4ffac66ee",
   "metadata": {},
   "outputs": [],
   "source": [
    "mycliet=pymongo.MongoClient(\"mongodb://localhost:27017\")\n",
    "\n",
    "mydb=mycliet[\"node_app\"]\n",
    "mycollection=mydb[\"products\"]\n",
    "\n"
   ]
  },
  {
   "cell_type": "code",
   "execution_count": 5,
   "id": "69f2d1f6-59fe-4d39-ae0d-12238dd4f559",
   "metadata": {},
   "outputs": [
    {
     "name": "stdout",
     "output_type": "stream",
     "text": [
      "{'_id': ObjectId('67518cbbc38f29fd952c25a7'), 'name': 'iphone 13', 'price': 2000}\n",
      "{'_id': ObjectId('67518d45c38f29fd952c25a8'), 'name': 'iphone 13', 'price': 2000}\n",
      "{'_id': ObjectId('67518de0c38f29fd952c25aa'), 'name': 'iphone 15', 'price': 4000}\n",
      "{'_id': ObjectId('67518de0c38f29fd952c25ab'), 'name': 'samsung s8', 'price': 5000}\n",
      "{'_id': ObjectId('67518de0c38f29fd952c25ac'), 'name': 'samsung s9', 'price': 6000}\n",
      "{'_id': ObjectId('67518de0c38f29fd952c25ad'), 'name': 'samsung s10', 'price': 7000}\n",
      "{'_id': ObjectId('67518de0c38f29fd952c25ae'), 'name': 'samsung s11', 'price': 8000}\n",
      "{'_id': ObjectId('67518f18c38f29fd952c25af'), 'idname': 'samsung s6', 'price': 3000, 'description': 'iyi telefon'}\n",
      "{'_id': ObjectId('67518f18c38f29fd952c25b0'), 'name': 'iphone 15', 'price': 4000, 'categories': ['telefon', 'elektronik']}\n",
      "{'_id': ObjectId('67518cbbc38f29fd952c25a7'), 'name': 'iphone 13', 'price': 2000}\n",
      "{'_id': ObjectId('67518d45c38f29fd952c25a8'), 'name': 'iphone 13', 'price': 2000}\n",
      "{'_id': ObjectId('67518de0c38f29fd952c25aa'), 'name': 'iphone 15', 'price': 4000}\n",
      "{'_id': ObjectId('67518f18c38f29fd952c25af'), 'idname': 'samsung s6', 'price': 3000, 'description': 'iyi telefon'}\n",
      "{'_id': ObjectId('67518f18c38f29fd952c25b0'), 'name': 'iphone 15', 'price': 4000, 'categories': ['telefon', 'elektronik']}\n"
     ]
    }
   ],
   "source": [
    "for i in mycollection.find():\n",
    "    print(i)\n",
    "\n",
    "#mycollection.delete_one({\"name\":\"iphone 15\"})\n",
    "mycollection.delete_many({\"name\":{\"$regex\":\"^s\"}})\n",
    "\n",
    "for i in mycollection.find():\n",
    "    print(i)\n"
   ]
  },
  {
   "cell_type": "code",
   "execution_count": null,
   "id": "2977c526-f84e-40cd-9a96-a34467e022ae",
   "metadata": {},
   "outputs": [],
   "source": []
  }
 ],
 "metadata": {
  "kernelspec": {
   "display_name": "Python 3 (ipykernel)",
   "language": "python",
   "name": "python3"
  },
  "language_info": {
   "codemirror_mode": {
    "name": "ipython",
    "version": 3
   },
   "file_extension": ".py",
   "mimetype": "text/x-python",
   "name": "python",
   "nbconvert_exporter": "python",
   "pygments_lexer": "ipython3",
   "version": "3.12.4"
  }
 },
 "nbformat": 4,
 "nbformat_minor": 5
}
