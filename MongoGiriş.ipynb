{
 "cells": [
  {
   "cell_type": "code",
   "execution_count": 1,
   "id": "0db063c0-5b20-409c-83eb-58384d5406ae",
   "metadata": {},
   "outputs": [],
   "source": [
    "import pymongo"
   ]
  },
  {
   "cell_type": "code",
   "execution_count": 3,
   "id": "e072cf6f-b5ce-46b9-830b-47249f4d7a5c",
   "metadata": {},
   "outputs": [
    {
     "name": "stdout",
     "output_type": "stream",
     "text": [
      "['admin', 'config', 'local', 'node_app']\n"
     ]
    }
   ],
   "source": [
    "myclient=pymongo.MongoClient(\"mongodb://localhost:27017\")\n",
    "\n",
    "mydb=myclient[\"node_app\"]\n",
    "\n",
    "\n",
    "print(myclient.list_database_names()) #localhosta olan databeseleri gösterir"
   ]
  },
  {
   "cell_type": "code",
   "execution_count": null,
   "id": "946d620f-2aff-47e3-9207-ed9b34c77792",
   "metadata": {},
   "outputs": [],
   "source": []
  }
 ],
 "metadata": {
  "kernelspec": {
   "display_name": "Python 3 (ipykernel)",
   "language": "python",
   "name": "python3"
  },
  "language_info": {
   "codemirror_mode": {
    "name": "ipython",
    "version": 3
   },
   "file_extension": ".py",
   "mimetype": "text/x-python",
   "name": "python",
   "nbconvert_exporter": "python",
   "pygments_lexer": "ipython3",
   "version": "3.12.4"
  }
 },
 "nbformat": 4,
 "nbformat_minor": 5
}
