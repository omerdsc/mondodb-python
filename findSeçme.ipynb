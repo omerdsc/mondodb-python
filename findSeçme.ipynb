{
 "cells": [
  {
   "cell_type": "code",
   "execution_count": 7,
   "id": "d9611a0e-4e2a-4f06-aa2f-ad6fae9ce09e",
   "metadata": {},
   "outputs": [],
   "source": [
    "import pymongo"
   ]
  },
  {
   "cell_type": "code",
   "execution_count": 10,
   "id": "ba5e93f7-5f74-4865-b7b8-0596b9ede332",
   "metadata": {},
   "outputs": [
    {
     "name": "stdout",
     "output_type": "stream",
     "text": [
      "{'_id': ObjectId('67518cbbc38f29fd952c25a7'), 'name': 'samsung s5', 'price': 2000}\n",
      "*************************\n",
      "{'_id': ObjectId('67518cbbc38f29fd952c25a7'), 'name': 'samsung s5', 'price': 2000}\n",
      "{'_id': ObjectId('67518d45c38f29fd952c25a8'), 'name': 'samsung s5', 'price': 2000}\n",
      "{'_id': ObjectId('67518de0c38f29fd952c25a9'), 'name': 'samsung s6', 'price': 3000}\n",
      "{'_id': ObjectId('67518de0c38f29fd952c25aa'), 'name': 'samsung s7', 'price': 4000}\n",
      "{'_id': ObjectId('67518de0c38f29fd952c25ab'), 'name': 'samsung s8', 'price': 5000}\n",
      "{'_id': ObjectId('67518de0c38f29fd952c25ac'), 'name': 'samsung s9', 'price': 6000}\n",
      "{'_id': ObjectId('67518de0c38f29fd952c25ad'), 'name': 'samsung s10', 'price': 7000}\n",
      "{'_id': ObjectId('67518de0c38f29fd952c25ae'), 'name': 'samsung s11', 'price': 8000}\n",
      "{'_id': ObjectId('67518f18c38f29fd952c25af'), 'idname': 'samsung s6', 'price': 3000, 'description': 'iyi telefon'}\n",
      "{'_id': ObjectId('67518f18c38f29fd952c25b0'), 'name': 'samsung s7', 'price': 4000, 'categories': ['telefon', 'elektronik']}\n"
     ]
    }
   ],
   "source": [
    "myclient=pymongo.MongoClient(\"mongodb://localhost:27017\")\n",
    "\n",
    "mydb=myclient[\"node_app\"]\n",
    "mycollection=mydb[\"products\"]\n",
    "\n",
    "result=mycollection.find_one() #kayıt seçme find_one sadece tek bir kayıt getirir\n",
    "print(result)\n",
    "print(\"*************************\")\n",
    "for i in mycollection.find(): #find tüm sorguları getirir\n",
    "    print(i)"
   ]
  },
  {
   "cell_type": "code",
   "execution_count": 12,
   "id": "a170a19e-e33a-4e05-abdd-24ee379378b1",
   "metadata": {},
   "outputs": [
    {
     "name": "stdout",
     "output_type": "stream",
     "text": [
      "{'name': 'samsung s5', 'price': 2000}\n",
      "{'name': 'samsung s5', 'price': 2000}\n",
      "{'name': 'samsung s6', 'price': 3000}\n",
      "{'name': 'samsung s7', 'price': 4000}\n",
      "{'name': 'samsung s8', 'price': 5000}\n",
      "{'name': 'samsung s9', 'price': 6000}\n",
      "{'name': 'samsung s10', 'price': 7000}\n",
      "{'name': 'samsung s11', 'price': 8000}\n",
      "{'price': 3000}\n",
      "{'name': 'samsung s7', 'price': 4000}\n"
     ]
    }
   ],
   "source": [
    "for i in mycollection.find({},{\"_id\":0,\"name\":1,\"price\":1}): #o olursa gösterme 1 olursa göster\n",
    "    print(i)"
   ]
  },
  {
   "cell_type": "code",
   "execution_count": null,
   "id": "f7b663f0-43a8-4fda-b3f4-699bc97c6414",
   "metadata": {},
   "outputs": [],
   "source": []
  }
 ],
 "metadata": {
  "kernelspec": {
   "display_name": "Python 3 (ipykernel)",
   "language": "python",
   "name": "python3"
  },
  "language_info": {
   "codemirror_mode": {
    "name": "ipython",
    "version": 3
   },
   "file_extension": ".py",
   "mimetype": "text/x-python",
   "name": "python",
   "nbconvert_exporter": "python",
   "pygments_lexer": "ipython3",
   "version": "3.12.4"
  }
 },
 "nbformat": 4,
 "nbformat_minor": 5
}
